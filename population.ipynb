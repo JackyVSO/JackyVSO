{
  "nbformat": 4,
  "nbformat_minor": 0,
  "metadata": {
    "colab": {
      "provenance": [],
      "mount_file_id": "1Qu1iLfIklCIzes_nnM88LfrvrUrRKauh",
      "authorship_tag": "ABX9TyO42UDURT1jHqNvikcQDPM9"
    },
    "kernelspec": {
      "name": "python3",
      "display_name": "Python 3"
    },
    "language_info": {
      "name": "python"
    },
    "widgets": {
      "application/vnd.jupyter.widget-state+json": {
        "f8f2187c01e44133b1c7bf1a07d3f4b3": {
          "model_module": "jupyter-leaflet",
          "model_name": "LeafletMapModel",
          "model_module_version": "^0.17",
          "state": {
            "_dom_classes": [],
            "_model_module": "jupyter-leaflet",
            "_model_module_version": "^0.17",
            "_model_name": "LeafletMapModel",
            "_view_count": null,
            "_view_module": "jupyter-leaflet",
            "_view_module_version": "^0.17",
            "_view_name": "LeafletMapView",
            "bottom": 9613,
            "bounce_at_zoom_limits": true,
            "box_zoom": true,
            "center": [
              -23.895882703682627,
              -50.6964111328125
            ],
            "close_popup_on_click": true,
            "controls": [
              "IPY_MODEL_1e8186eda6e346619816b9f1cc39d382",
              "IPY_MODEL_95648df2a0d94a8fb321c066437bd150",
              "IPY_MODEL_2b1c0d06a2d14b95b3a71632cd36ad7e",
              "IPY_MODEL_c39d0501efc141fd8897b8104c746adc",
              "IPY_MODEL_8465a06d39b24b7e866d79dab402781d",
              "IPY_MODEL_0aa21484ca0f4d9595c562c6797503c2",
              "IPY_MODEL_24059ea4567549b790d474b88bc96315",
              "IPY_MODEL_e1349073de46405f997098f0f79ff296"
            ],
            "crs": {
              "name": "EPSG3857",
              "custom": false
            },
            "default_style": "IPY_MODEL_8932500f5e184ac6baeb18f86ea1cb22",
            "double_click_zoom": true,
            "dragging": true,
            "dragging_style": "IPY_MODEL_b39142b3c8394661a253c220472b1ff6",
            "east": -34.34326171875001,
            "fullscreen": false,
            "inertia": true,
            "inertia_deceleration": 3000,
            "inertia_max_speed": 1500,
            "interpolation": "bilinear",
            "keyboard": true,
            "keyboard_pan_offset": 80,
            "keyboard_zoom_offset": 1,
            "layers": [
              "IPY_MODEL_619fb83780d14c14862dd67f0e7354b3",
              "IPY_MODEL_e0d5bb0f2f5a46a48d325e5cd0a885fc",
              "IPY_MODEL_a0b0d0fb0ca042769f59eea80073a9eb",
              "IPY_MODEL_548fda99c226495eb4729149bca6f75d"
            ],
            "layout": "IPY_MODEL_647558f58c1642ba8588b22a69f9e74d",
            "left": 5141,
            "max_zoom": 24,
            "min_zoom": null,
            "modisdate": "2023-05-01",
            "north": -17.748686651728793,
            "options": [
              "bounce_at_zoom_limits",
              "box_zoom",
              "center",
              "close_popup_on_click",
              "double_click_zoom",
              "dragging",
              "fullscreen",
              "inertia",
              "inertia_deceleration",
              "inertia_max_speed",
              "interpolation",
              "keyboard",
              "keyboard_pan_offset",
              "keyboard_zoom_offset",
              "max_zoom",
              "min_zoom",
              "prefer_canvas",
              "scroll_wheel_zoom",
              "tap",
              "tap_tolerance",
              "touch_zoom",
              "world_copy_jump",
              "zoom",
              "zoom_animation_threshold",
              "zoom_delta",
              "zoom_snap"
            ],
            "panes": {},
            "prefer_canvas": false,
            "right": 6629,
            "scroll_wheel_zoom": true,
            "south": -29.78344945682059,
            "style": "IPY_MODEL_8932500f5e184ac6baeb18f86ea1cb22",
            "tap": true,
            "tap_tolerance": 15,
            "top": 9013,
            "touch_zoom": true,
            "west": -67.03857421875001,
            "window_url": "https://av6juwkf65u-496ff2e9c6d22116-0-colab.googleusercontent.com/outputframe.html?vrz=colab-20230428-060146-RC00_527845752",
            "world_copy_jump": false,
            "zoom": 6,
            "zoom_animation_threshold": 4,
            "zoom_delta": 1,
            "zoom_snap": 1
          }
        },
        "1e8186eda6e346619816b9f1cc39d382": {
          "model_module": "jupyter-leaflet",
          "model_name": "LeafletWidgetControlModel",
          "model_module_version": "^0.17",
          "state": {
            "_model_module": "jupyter-leaflet",
            "_model_module_version": "^0.17",
            "_model_name": "LeafletWidgetControlModel",
            "_view_count": null,
            "_view_module": "jupyter-leaflet",
            "_view_module_version": "^0.17",
            "_view_name": "LeafletWidgetControlView",
            "max_height": null,
            "max_width": null,
            "min_height": null,
            "min_width": null,
            "options": [
              "position",
              "transparent_bg"
            ],
            "position": "topleft",
            "transparent_bg": false,
            "widget": "IPY_MODEL_d909526bcc1c4e28b2eb5b0c1bc79bbe"
          }
        },
        "95648df2a0d94a8fb321c066437bd150": {
          "model_module": "jupyter-leaflet",
          "model_name": "LeafletZoomControlModel",
          "model_module_version": "^0.17",
          "state": {
            "_model_module": "jupyter-leaflet",
            "_model_module_version": "^0.17",
            "_model_name": "LeafletZoomControlModel",
            "_view_count": null,
            "_view_module": "jupyter-leaflet",
            "_view_module_version": "^0.17",
            "_view_name": "LeafletZoomControlView",
            "options": [
              "position",
              "zoom_in_text",
              "zoom_in_title",
              "zoom_out_text",
              "zoom_out_title"
            ],
            "position": "topleft",
            "zoom_in_text": "+",
            "zoom_in_title": "Zoom in",
            "zoom_out_text": "-",
            "zoom_out_title": "Zoom out"
          }
        },
        "2b1c0d06a2d14b95b3a71632cd36ad7e": {
          "model_module": "jupyter-leaflet",
          "model_name": "LeafletScaleControlModel",
          "model_module_version": "^0.17",
          "state": {
            "_model_module": "jupyter-leaflet",
            "_model_module_version": "^0.17",
            "_model_name": "LeafletScaleControlModel",
            "_view_count": null,
            "_view_module": "jupyter-leaflet",
            "_view_module_version": "^0.17",
            "_view_name": "LeafletScaleControlView",
            "imperial": true,
            "max_width": 100,
            "metric": true,
            "options": [
              "imperial",
              "max_width",
              "metric",
              "position",
              "update_when_idle"
            ],
            "position": "bottomleft",
            "update_when_idle": false
          }
        },
        "c39d0501efc141fd8897b8104c746adc": {
          "model_module": "jupyter-leaflet",
          "model_name": "LeafletFullScreenControlModel",
          "model_module_version": "^0.17",
          "state": {
            "_model_module": "jupyter-leaflet",
            "_model_module_version": "^0.17",
            "_model_name": "LeafletFullScreenControlModel",
            "_view_count": null,
            "_view_module": "jupyter-leaflet",
            "_view_module_version": "^0.17",
            "_view_name": "LeafletFullScreenControlView",
            "options": [
              "position"
            ],
            "position": "topleft"
          }
        },
        "8465a06d39b24b7e866d79dab402781d": {
          "model_module": "jupyter-leaflet",
          "model_name": "LeafletMeasureControlModel",
          "model_module_version": "^0.17",
          "state": {
            "_custom_units": {},
            "_model_module": "jupyter-leaflet",
            "_model_module_version": "^0.17",
            "_model_name": "LeafletMeasureControlModel",
            "_view_count": null,
            "_view_module": "jupyter-leaflet",
            "_view_module_version": "^0.17",
            "_view_name": "LeafletMeasureControlView",
            "active_color": "orange",
            "capture_z_index": 10000,
            "completed_color": "#C8F2BE",
            "options": [
              "active_color",
              "capture_z_index",
              "completed_color",
              "popup_options",
              "position",
              "primary_area_unit",
              "primary_length_unit",
              "secondary_area_unit",
              "secondary_length_unit"
            ],
            "popup_options": {
              "className": "leaflet-measure-resultpopup",
              "autoPanPadding": [
                10,
                10
              ]
            },
            "position": "bottomleft",
            "primary_area_unit": "acres",
            "primary_length_unit": "kilometers",
            "secondary_area_unit": null,
            "secondary_length_unit": null
          }
        },
        "0aa21484ca0f4d9595c562c6797503c2": {
          "model_module": "jupyter-leaflet",
          "model_name": "LeafletAttributionControlModel",
          "model_module_version": "^0.17",
          "state": {
            "_model_module": "jupyter-leaflet",
            "_model_module_version": "^0.17",
            "_model_name": "LeafletAttributionControlModel",
            "_view_count": null,
            "_view_module": "jupyter-leaflet",
            "_view_module_version": "^0.17",
            "_view_name": "LeafletAttributionControlView",
            "options": [
              "position",
              "prefix"
            ],
            "position": "bottomright",
            "prefix": "ipyleaflet"
          }
        },
        "24059ea4567549b790d474b88bc96315": {
          "model_module": "jupyter-leaflet",
          "model_name": "LeafletDrawControlModel",
          "model_module_version": "^0.17",
          "state": {
            "_model_module": "jupyter-leaflet",
            "_model_module_version": "^0.17",
            "_model_name": "LeafletDrawControlModel",
            "_view_count": null,
            "_view_module": "jupyter-leaflet",
            "_view_module_version": "^0.17",
            "_view_name": "LeafletDrawControlView",
            "circle": {
              "shapeOptions": {
                "color": "#3388ff"
              }
            },
            "circlemarker": {},
            "data": [],
            "edit": true,
            "marker": {
              "shapeOptions": {
                "color": "#3388ff"
              }
            },
            "options": [
              "position"
            ],
            "polygon": {
              "shapeOptions": {}
            },
            "polyline": {
              "shapeOptions": {}
            },
            "position": "topleft",
            "rectangle": {
              "shapeOptions": {
                "color": "#3388ff"
              }
            },
            "remove": true
          }
        },
        "e1349073de46405f997098f0f79ff296": {
          "model_module": "jupyter-leaflet",
          "model_name": "LeafletWidgetControlModel",
          "model_module_version": "^0.17",
          "state": {
            "_model_module": "jupyter-leaflet",
            "_model_module_version": "^0.17",
            "_model_name": "LeafletWidgetControlModel",
            "_view_count": null,
            "_view_module": "jupyter-leaflet",
            "_view_module_version": "^0.17",
            "_view_name": "LeafletWidgetControlView",
            "max_height": null,
            "max_width": null,
            "min_height": null,
            "min_width": null,
            "options": [
              "position",
              "transparent_bg"
            ],
            "position": "topright",
            "transparent_bg": false,
            "widget": "IPY_MODEL_44970e5a5e1b40d3bf8a81d81143f1fc"
          }
        },
        "8932500f5e184ac6baeb18f86ea1cb22": {
          "model_module": "jupyter-leaflet",
          "model_name": "LeafletMapStyleModel",
          "model_module_version": "^0.17",
          "state": {
            "_model_module": "jupyter-leaflet",
            "_model_module_version": "^0.17",
            "_model_name": "LeafletMapStyleModel",
            "_view_count": null,
            "_view_module": "@jupyter-widgets/base",
            "_view_module_version": "1.2.0",
            "_view_name": "StyleView",
            "cursor": "grab"
          }
        },
        "b39142b3c8394661a253c220472b1ff6": {
          "model_module": "jupyter-leaflet",
          "model_name": "LeafletMapStyleModel",
          "model_module_version": "^0.17",
          "state": {
            "_model_module": "jupyter-leaflet",
            "_model_module_version": "^0.17",
            "_model_name": "LeafletMapStyleModel",
            "_view_count": null,
            "_view_module": "@jupyter-widgets/base",
            "_view_module_version": "1.2.0",
            "_view_name": "StyleView",
            "cursor": "move"
          }
        },
        "619fb83780d14c14862dd67f0e7354b3": {
          "model_module": "jupyter-leaflet",
          "model_name": "LeafletTileLayerModel",
          "model_module_version": "^0.17",
          "state": {
            "_model_module": "jupyter-leaflet",
            "_model_module_version": "^0.17",
            "_model_name": "LeafletTileLayerModel",
            "_view_count": null,
            "_view_module": "jupyter-leaflet",
            "_view_module_version": "^0.17",
            "_view_name": "LeafletTileLayerView",
            "attribution": "&copy; <a href=\"https://www.openstreetmap.org/copyright\">OpenStreetMap</a> contributors",
            "base": true,
            "bottom": true,
            "bounds": null,
            "detect_retina": false,
            "loading": true,
            "max_native_zoom": null,
            "max_zoom": 19,
            "min_native_zoom": null,
            "min_zoom": 1,
            "name": "OpenStreetMap.Mapnik",
            "no_wrap": false,
            "opacity": 1,
            "options": [
              "attribution",
              "bounds",
              "detect_retina",
              "max_native_zoom",
              "max_zoom",
              "min_native_zoom",
              "min_zoom",
              "no_wrap",
              "tile_size",
              "tms",
              "zoom_offset"
            ],
            "pane": "",
            "popup": null,
            "popup_max_height": null,
            "popup_max_width": 300,
            "popup_min_width": 50,
            "show_loading": false,
            "subitems": [],
            "tile_size": 256,
            "tms": false,
            "url": "https://tile.openstreetmap.org/{z}/{x}/{y}.png",
            "visible": true,
            "zoom_offset": 0
          }
        },
        "e0d5bb0f2f5a46a48d325e5cd0a885fc": {
          "model_module": "jupyter-leaflet",
          "model_name": "LeafletTileLayerModel",
          "model_module_version": "^0.17",
          "state": {
            "_model_module": "jupyter-leaflet",
            "_model_module_version": "^0.17",
            "_model_name": "LeafletTileLayerModel",
            "_view_count": null,
            "_view_module": "jupyter-leaflet",
            "_view_module_version": "^0.17",
            "_view_name": "LeafletTileLayerView",
            "attribution": "Google",
            "base": false,
            "bottom": true,
            "bounds": null,
            "detect_retina": false,
            "loading": true,
            "max_native_zoom": null,
            "max_zoom": 22,
            "min_native_zoom": null,
            "min_zoom": 0,
            "name": "Google Maps",
            "no_wrap": false,
            "opacity": 1,
            "options": [
              "attribution",
              "bounds",
              "detect_retina",
              "max_native_zoom",
              "max_zoom",
              "min_native_zoom",
              "min_zoom",
              "no_wrap",
              "tile_size",
              "tms",
              "zoom_offset"
            ],
            "pane": "",
            "popup": null,
            "popup_max_height": null,
            "popup_max_width": 300,
            "popup_min_width": 50,
            "show_loading": false,
            "subitems": [],
            "tile_size": 256,
            "tms": false,
            "url": "https://mt1.google.com/vt/lyrs=m&x={x}&y={y}&z={z}",
            "visible": true,
            "zoom_offset": 0
          }
        },
        "a0b0d0fb0ca042769f59eea80073a9eb": {
          "model_module": "jupyter-leaflet",
          "model_name": "LeafletTileLayerModel",
          "model_module_version": "^0.17",
          "state": {
            "_model_module": "jupyter-leaflet",
            "_model_module_version": "^0.17",
            "_model_name": "LeafletTileLayerModel",
            "_view_count": null,
            "_view_module": "jupyter-leaflet",
            "_view_module_version": "^0.17",
            "_view_name": "LeafletTileLayerView",
            "attribution": "Google Earth Engine",
            "base": false,
            "bottom": true,
            "bounds": null,
            "detect_retina": false,
            "loading": true,
            "max_native_zoom": null,
            "max_zoom": 24,
            "min_native_zoom": null,
            "min_zoom": 0,
            "name": "Image",
            "no_wrap": false,
            "opacity": 1,
            "options": [
              "attribution",
              "bounds",
              "detect_retina",
              "max_native_zoom",
              "max_zoom",
              "min_native_zoom",
              "min_zoom",
              "no_wrap",
              "tile_size",
              "tms",
              "zoom_offset"
            ],
            "pane": "",
            "popup": null,
            "popup_max_height": null,
            "popup_max_width": 300,
            "popup_min_width": 50,
            "show_loading": false,
            "subitems": [],
            "tile_size": 256,
            "tms": false,
            "url": "https://earthengine-highvolume.googleapis.com/v1alpha/projects/earthengine-legacy/maps/220ecbc447a77b2ff17ebacad1022542-3b667d977dd6a605326d4b3ddd20526a/tiles/{z}/{x}/{y}",
            "visible": true,
            "zoom_offset": 0
          }
        },
        "548fda99c226495eb4729149bca6f75d": {
          "model_module": "jupyter-leaflet",
          "model_name": "LeafletTileLayerModel",
          "model_module_version": "^0.17",
          "state": {
            "_model_module": "jupyter-leaflet",
            "_model_module_version": "^0.17",
            "_model_name": "LeafletTileLayerModel",
            "_view_count": null,
            "_view_module": "jupyter-leaflet",
            "_view_module_version": "^0.17",
            "_view_name": "LeafletTileLayerView",
            "attribution": "Google Earth Engine",
            "base": false,
            "bottom": true,
            "bounds": null,
            "detect_retina": false,
            "loading": true,
            "max_native_zoom": null,
            "max_zoom": 24,
            "min_native_zoom": null,
            "min_zoom": 0,
            "name": "roi",
            "no_wrap": false,
            "opacity": 1,
            "options": [
              "attribution",
              "bounds",
              "detect_retina",
              "max_native_zoom",
              "max_zoom",
              "min_native_zoom",
              "min_zoom",
              "no_wrap",
              "tile_size",
              "tms",
              "zoom_offset"
            ],
            "pane": "",
            "popup": null,
            "popup_max_height": null,
            "popup_max_width": 300,
            "popup_min_width": 50,
            "show_loading": false,
            "subitems": [],
            "tile_size": 256,
            "tms": false,
            "url": "https://earthengine-highvolume.googleapis.com/v1alpha/projects/earthengine-legacy/maps/c4d9899bdf548c6952dd6b011543fb80-79b22b99a983349d0bcef1191d21c7b2/tiles/{z}/{x}/{y}",
            "visible": false,
            "zoom_offset": 0
          }
        },
        "647558f58c1642ba8588b22a69f9e74d": {
          "model_module": "@jupyter-widgets/base",
          "model_name": "LayoutModel",
          "model_module_version": "1.2.0",
          "state": {
            "_model_module": "@jupyter-widgets/base",
            "_model_module_version": "1.2.0",
            "_model_name": "LayoutModel",
            "_view_count": null,
            "_view_module": "@jupyter-widgets/base",
            "_view_module_version": "1.2.0",
            "_view_name": "LayoutView",
            "align_content": null,
            "align_items": null,
            "align_self": null,
            "border": null,
            "bottom": null,
            "display": null,
            "flex": null,
            "flex_flow": null,
            "grid_area": null,
            "grid_auto_columns": null,
            "grid_auto_flow": null,
            "grid_auto_rows": null,
            "grid_column": null,
            "grid_gap": null,
            "grid_row": null,
            "grid_template_areas": null,
            "grid_template_columns": null,
            "grid_template_rows": null,
            "height": "600px",
            "justify_content": null,
            "justify_items": null,
            "left": null,
            "margin": null,
            "max_height": null,
            "max_width": null,
            "min_height": null,
            "min_width": null,
            "object_fit": null,
            "object_position": null,
            "order": null,
            "overflow": null,
            "overflow_x": null,
            "overflow_y": null,
            "padding": null,
            "right": null,
            "top": null,
            "visibility": null,
            "width": null
          }
        },
        "c8b68deda0234b6ba5d8cbf4d10f3bea": {
          "model_module": "jupyter-leaflet",
          "model_name": "LeafletMapStyleModel",
          "model_module_version": "^0.17",
          "state": {
            "_model_module": "jupyter-leaflet",
            "_model_module_version": "^0.17",
            "_model_name": "LeafletMapStyleModel",
            "_view_count": null,
            "_view_module": "@jupyter-widgets/base",
            "_view_module_version": "1.2.0",
            "_view_name": "StyleView",
            "cursor": "grab"
          }
        },
        "d909526bcc1c4e28b2eb5b0c1bc79bbe": {
          "model_module": "@jupyter-widgets/controls",
          "model_name": "HBoxModel",
          "model_module_version": "1.5.0",
          "state": {
            "_dom_classes": [],
            "_model_module": "@jupyter-widgets/controls",
            "_model_module_version": "1.5.0",
            "_model_name": "HBoxModel",
            "_view_count": null,
            "_view_module": "@jupyter-widgets/controls",
            "_view_module_version": "1.5.0",
            "_view_name": "HBoxView",
            "box_style": "",
            "children": [
              "IPY_MODEL_8b14ecad7c504c5f98d05aa63a25799b"
            ],
            "layout": "IPY_MODEL_f93637f6d2c24fdfb0e7856a279f4f60"
          }
        },
        "44970e5a5e1b40d3bf8a81d81143f1fc": {
          "model_module": "@jupyter-widgets/controls",
          "model_name": "VBoxModel",
          "model_module_version": "1.5.0",
          "state": {
            "_dom_classes": [],
            "_model_module": "@jupyter-widgets/controls",
            "_model_module_version": "1.5.0",
            "_model_name": "VBoxModel",
            "_view_count": null,
            "_view_module": "@jupyter-widgets/controls",
            "_view_module_version": "1.5.0",
            "_view_name": "VBoxView",
            "box_style": "",
            "children": [
              "IPY_MODEL_173491fa61824271a4c63f89246a0702"
            ],
            "layout": "IPY_MODEL_89ab14de7e134d7aa3732da56dd4172b"
          }
        },
        "8b14ecad7c504c5f98d05aa63a25799b": {
          "model_module": "@jupyter-widgets/controls",
          "model_name": "ToggleButtonModel",
          "model_module_version": "1.5.0",
          "state": {
            "_dom_classes": [],
            "_model_module": "@jupyter-widgets/controls",
            "_model_module_version": "1.5.0",
            "_model_name": "ToggleButtonModel",
            "_view_count": null,
            "_view_module": "@jupyter-widgets/controls",
            "_view_module_version": "1.5.0",
            "_view_name": "ToggleButtonView",
            "button_style": "",
            "description": "",
            "description_tooltip": null,
            "disabled": false,
            "icon": "globe",
            "layout": "IPY_MODEL_7d1cabac337a423ca6b393b9b78aa9f5",
            "style": "IPY_MODEL_9ef7e71363e640709bf9289a8fbcf3b8",
            "tooltip": "Search location/data",
            "value": false
          }
        },
        "f93637f6d2c24fdfb0e7856a279f4f60": {
          "model_module": "@jupyter-widgets/base",
          "model_name": "LayoutModel",
          "model_module_version": "1.2.0",
          "state": {
            "_model_module": "@jupyter-widgets/base",
            "_model_module_version": "1.2.0",
            "_model_name": "LayoutModel",
            "_view_count": null,
            "_view_module": "@jupyter-widgets/base",
            "_view_module_version": "1.2.0",
            "_view_name": "LayoutView",
            "align_content": null,
            "align_items": null,
            "align_self": null,
            "border": null,
            "bottom": null,
            "display": null,
            "flex": null,
            "flex_flow": null,
            "grid_area": null,
            "grid_auto_columns": null,
            "grid_auto_flow": null,
            "grid_auto_rows": null,
            "grid_column": null,
            "grid_gap": null,
            "grid_row": null,
            "grid_template_areas": null,
            "grid_template_columns": null,
            "grid_template_rows": null,
            "height": null,
            "justify_content": null,
            "justify_items": null,
            "left": null,
            "margin": null,
            "max_height": null,
            "max_width": null,
            "min_height": null,
            "min_width": null,
            "object_fit": null,
            "object_position": null,
            "order": null,
            "overflow": null,
            "overflow_x": null,
            "overflow_y": null,
            "padding": null,
            "right": null,
            "top": null,
            "visibility": null,
            "width": null
          }
        },
        "173491fa61824271a4c63f89246a0702": {
          "model_module": "@jupyter-widgets/controls",
          "model_name": "ToggleButtonModel",
          "model_module_version": "1.5.0",
          "state": {
            "_dom_classes": [],
            "_model_module": "@jupyter-widgets/controls",
            "_model_module_version": "1.5.0",
            "_model_name": "ToggleButtonModel",
            "_view_count": null,
            "_view_module": "@jupyter-widgets/controls",
            "_view_module_version": "1.5.0",
            "_view_name": "ToggleButtonView",
            "button_style": "",
            "description": "",
            "description_tooltip": null,
            "disabled": false,
            "icon": "wrench",
            "layout": "IPY_MODEL_061ca465a2d749e79fef6dafc3efee21",
            "style": "IPY_MODEL_7ea56b29496443c18b27d7df7297b36e",
            "tooltip": "Toolbar",
            "value": false
          }
        },
        "89ab14de7e134d7aa3732da56dd4172b": {
          "model_module": "@jupyter-widgets/base",
          "model_name": "LayoutModel",
          "model_module_version": "1.2.0",
          "state": {
            "_model_module": "@jupyter-widgets/base",
            "_model_module_version": "1.2.0",
            "_model_name": "LayoutModel",
            "_view_count": null,
            "_view_module": "@jupyter-widgets/base",
            "_view_module_version": "1.2.0",
            "_view_name": "LayoutView",
            "align_content": null,
            "align_items": null,
            "align_self": null,
            "border": null,
            "bottom": null,
            "display": null,
            "flex": null,
            "flex_flow": null,
            "grid_area": null,
            "grid_auto_columns": null,
            "grid_auto_flow": null,
            "grid_auto_rows": null,
            "grid_column": null,
            "grid_gap": null,
            "grid_row": null,
            "grid_template_areas": null,
            "grid_template_columns": null,
            "grid_template_rows": null,
            "height": null,
            "justify_content": null,
            "justify_items": null,
            "left": null,
            "margin": null,
            "max_height": null,
            "max_width": null,
            "min_height": null,
            "min_width": null,
            "object_fit": null,
            "object_position": null,
            "order": null,
            "overflow": null,
            "overflow_x": null,
            "overflow_y": null,
            "padding": null,
            "right": null,
            "top": null,
            "visibility": null,
            "width": null
          }
        },
        "7d1cabac337a423ca6b393b9b78aa9f5": {
          "model_module": "@jupyter-widgets/base",
          "model_name": "LayoutModel",
          "model_module_version": "1.2.0",
          "state": {
            "_model_module": "@jupyter-widgets/base",
            "_model_module_version": "1.2.0",
            "_model_name": "LayoutModel",
            "_view_count": null,
            "_view_module": "@jupyter-widgets/base",
            "_view_module_version": "1.2.0",
            "_view_name": "LayoutView",
            "align_content": null,
            "align_items": null,
            "align_self": null,
            "border": null,
            "bottom": null,
            "display": null,
            "flex": null,
            "flex_flow": null,
            "grid_area": null,
            "grid_auto_columns": null,
            "grid_auto_flow": null,
            "grid_auto_rows": null,
            "grid_column": null,
            "grid_gap": null,
            "grid_row": null,
            "grid_template_areas": null,
            "grid_template_columns": null,
            "grid_template_rows": null,
            "height": "28px",
            "justify_content": null,
            "justify_items": null,
            "left": null,
            "margin": null,
            "max_height": null,
            "max_width": null,
            "min_height": null,
            "min_width": null,
            "object_fit": null,
            "object_position": null,
            "order": null,
            "overflow": null,
            "overflow_x": null,
            "overflow_y": null,
            "padding": "0px 0px 0px 4px",
            "right": null,
            "top": null,
            "visibility": null,
            "width": "28px"
          }
        },
        "9ef7e71363e640709bf9289a8fbcf3b8": {
          "model_module": "@jupyter-widgets/controls",
          "model_name": "DescriptionStyleModel",
          "model_module_version": "1.5.0",
          "state": {
            "_model_module": "@jupyter-widgets/controls",
            "_model_module_version": "1.5.0",
            "_model_name": "DescriptionStyleModel",
            "_view_count": null,
            "_view_module": "@jupyter-widgets/base",
            "_view_module_version": "1.2.0",
            "_view_name": "StyleView",
            "description_width": ""
          }
        },
        "061ca465a2d749e79fef6dafc3efee21": {
          "model_module": "@jupyter-widgets/base",
          "model_name": "LayoutModel",
          "model_module_version": "1.2.0",
          "state": {
            "_model_module": "@jupyter-widgets/base",
            "_model_module_version": "1.2.0",
            "_model_name": "LayoutModel",
            "_view_count": null,
            "_view_module": "@jupyter-widgets/base",
            "_view_module_version": "1.2.0",
            "_view_name": "LayoutView",
            "align_content": null,
            "align_items": null,
            "align_self": null,
            "border": null,
            "bottom": null,
            "display": null,
            "flex": null,
            "flex_flow": null,
            "grid_area": null,
            "grid_auto_columns": null,
            "grid_auto_flow": null,
            "grid_auto_rows": null,
            "grid_column": null,
            "grid_gap": null,
            "grid_row": null,
            "grid_template_areas": null,
            "grid_template_columns": null,
            "grid_template_rows": null,
            "height": "28px",
            "justify_content": null,
            "justify_items": null,
            "left": null,
            "margin": null,
            "max_height": null,
            "max_width": null,
            "min_height": null,
            "min_width": null,
            "object_fit": null,
            "object_position": null,
            "order": null,
            "overflow": null,
            "overflow_x": null,
            "overflow_y": null,
            "padding": "0px 0px 0px 4px",
            "right": null,
            "top": null,
            "visibility": null,
            "width": "28px"
          }
        },
        "7ea56b29496443c18b27d7df7297b36e": {
          "model_module": "@jupyter-widgets/controls",
          "model_name": "DescriptionStyleModel",
          "model_module_version": "1.5.0",
          "state": {
            "_model_module": "@jupyter-widgets/controls",
            "_model_module_version": "1.5.0",
            "_model_name": "DescriptionStyleModel",
            "_view_count": null,
            "_view_module": "@jupyter-widgets/base",
            "_view_module_version": "1.2.0",
            "_view_name": "StyleView",
            "description_width": ""
          }
        }
      }
    },
    "accelerator": "GPU",
    "gpuClass": "standard"
  },
  "cells": [
    {
      "cell_type": "markdown",
      "source": [
        "# Population (wip)\n",
        "The purpose of this project is to train a neural network to guess how many people live in an area solely by looking at a satellite image of the area. The network is trained on aggregated population data from NASA and Sentinel-2 imagery imported through Google's Earth Engine API."
      ],
      "metadata": {
        "id": "9540yqo_L7R7"
      }
    },
    {
      "cell_type": "code",
      "source": [
        "#Dataset preparation stage.\n",
        "#Install packages not included with Colab:\n",
        "%%capture\n",
        "!pip install geemap\n",
        "!pip install retry\n",
        "!pip install global_land_mask"
      ],
      "metadata": {
        "id": "pWP293yaaK86"
      },
      "execution_count": null,
      "outputs": []
    },
    {
      "cell_type": "code",
      "source": [
        "#Import all libraries and methods required for the data retrieval and data processing stages of the project\n",
        "import ee\n",
        "ee.Authenticate()\n",
        "from global_land_mask import globe\n",
        "import requests\n",
        "from retry import retry\n",
        "import os.path\n",
        "import shutil\n",
        "import multiprocessing\n",
        "import logging\n",
        "import geemap\n",
        "import numpy as np\n",
        "import random\n",
        "import cv2"
      ],
      "metadata": {
        "id": "2gbzYfKUiRyM"
      },
      "execution_count": null,
      "outputs": []
    },
    {
      "cell_type": "code",
      "source": [
        "#Delete all previously downloaded images\n",
        "for i in range(1,9):\n",
        "  for file in os.listdir(str(i)):\n",
        "    os.remove(f\"{str(i)}/{file}\")"
      ],
      "metadata": {
        "id": "9zrH_V0ZmTdG"
      },
      "execution_count": null,
      "outputs": []
    },
    {
      "cell_type": "code",
      "source": [
        "#Create folders for downloaded images\n",
        "for i in range(1,9):\n",
        "  os.mkdir(str(i))"
      ],
      "metadata": {
        "id": "fsVfDC8osNV0"
      },
      "execution_count": null,
      "outputs": []
    },
    {
      "cell_type": "code",
      "execution_count": null,
      "metadata": {
        "id": "VwGZXA9OXiW_"
      },
      "outputs": [],
      "source": [
        "#Set up parameters for image downloads\n",
        "ee.Initialize(opt_url=\"https://earthengine-highvolume.googleapis.com\")\n",
        "\n",
        "params = {\n",
        "    'regions': 100,\n",
        "    'pointsperregion': 50,\n",
        "    'regionsize': 0.5,          #Side length of ROI (major) image, in degrees\n",
        "    'step': 1 / 120,            #1 / 120 is the lowest possible grid size (30 arc seconds). See GPW-4 documentation for other possible grid sizes.\n",
        "    'seed': 27,\n",
        "    'dimensions': '224x224',\n",
        "    'format': 'png',\n",
        "    'prefix': '',\n",
        "    'processes': 10,\n",
        "    'bands': ['B4','B3','B2'],\n",
        "    'max': 2800,\n",
        "    'test': False\n",
        "}\n",
        "\n",
        "#Define perimeters of areas for which good quality population data exists:\n",
        "ITALY = ee.Geometry.Polygon([[[7.15, 45.5], [7.15, 41], [14.5, 41], [14.5, 45.5],[7.15,45.5]]], None, False)\n",
        "SOUTHAFRICA = ee.Geometry.Polygon([[[26,-24],[26,-33.8],[33,-33.8],[33,-24],[26,-24]]], None, False)\n",
        "AMERICA = ee.Geometry.Polygon([[[-127,49],[-66,49],[-66,30],[-127,30],[-127,49]]], None, False)\n",
        "BRAZILURU = ee.Geometry.Polygon([[[-60,-3],[-35, -3],[-35,-35],[-60,-35],[-60, -3]]], None, False)\n",
        "UK = ee.Geometry.Polygon([[[-7.5,56.6],[1,56.6],[1,50.1],[-7.5,50.1],[-7.5,56.6]]], None, False)\n",
        "AUSTRALIANZ = ee.Geometry.Polygon([[[142,-27],[179,-27],[179,-47],[142,-47],[142,-27]]], None, False)\n",
        "\n",
        "qualitycountries = (ITALY, SOUTHAFRICA, AMERICA, BRAZILURU, UK, AUSTRALIANZ)\n",
        "\n",
        "#Manually add some urban areas to the dataset to make it more representative of what users might actually use the model for \n",
        "#Cities included: London, Paris, Johannesburg, Sao Paolo, Los Angeles, New York City, Milan, Merida (Mexico), Sydney, Mexico City:\n",
        "CITIES = [[-0.45, 51.691666667], [2.00833333333, 49.066666667], [27.775, -25.9583333333], [-46.866666667, -23.3833333333], [-118.425, 34.1416666667], [-73.216666667, 40.991666667], [8.725, 45.808333333], [-89.908333333, 21.1], [150.775, -33.675], [-99.308333333, 19.658333333]]\n",
        "\n",
        "def geoJSONize(point):\n",
        "  return {'geodesic': False, 'type': 'Point', 'coordinates': [point[0], point[1]]}"
      ]
    },
    {
      "cell_type": "code",
      "source": [
        "#We build our dataset by generating and downloading a large amount of 224x224 image chips from Earth Engine.\n",
        "#To do this, we need to prepare a set of larger images from which we can mass-generate image chips. Each larger image covers an area of 0,5 by 0,5 degrees.\n",
        "#This function returns randomly selected non-ocean locations, corresponding exactly to grid corners in the target data, from which to generate each major image\n",
        "def getCorners(roicorners=list()):\n",
        "  _buffer = params['step']\n",
        "  while len(roicorners) < params['regions']:\n",
        "    x = random.randint(0, 360 // _buffer)\n",
        "    y = random.randint(0, 360 // _buffer) \n",
        "    x, y = x * _buffer, y * _buffer * 0.5\n",
        "    x, y = -180 + x, -90 + y\n",
        "    \n",
        "    #Ensure that the point is on land:\n",
        "    if not globe.is_land(y,x):\n",
        "      continue\n",
        "\n",
        "    #Ensure that the point is within one of the countries for which quality target data exists:\n",
        "    point = ee.Geometry.Point([x,y])\n",
        "    for country in qualitycountries:\n",
        "      if country.contains(point).getInfo():\n",
        "        roicorners.append((x,y))\n",
        "  return roicorners"
      ],
      "metadata": {
        "id": "Kxd4vuycTtB1"
      },
      "execution_count": null,
      "outputs": []
    },
    {
      "cell_type": "code",
      "source": [
        "#Get randomly selected non-polar land areas, all corresponding to grid corners from the target dataset\n",
        "#Generate grid corner locations by stepping by the grid size:\n",
        "def getImage(corner):\n",
        "  _size = params['regionsize']\n",
        "  #Generate square from northeast corner\n",
        "  roi = ee.Geometry.Polygon([[[corner[0], corner[1]], [corner[0]+_size,corner[1]], [corner[0]+_size, corner[1]-_size], [corner[0],corner[1]-_size], [corner[0], corner[1]]]], None, False)\n",
        "  #Load image\n",
        "  image = ee.ImageCollection('COPERNICUS/S2_SR_HARMONIZED') \\\n",
        "  .filterBounds(roi) \\\n",
        "  .filterDate('2020-05-01', '2020-09-01') \\\n",
        "  .filter(ee.Filter.lt('CLOUDY_PIXEL_PERCENTAGE', 5)) \\\n",
        "  .sort('GENERAL_QUALITY') \\\n",
        "  .mosaic() \\\n",
        "  .clip(roi) \\\n",
        "  .select(params['bands'])\n",
        "  return image\n"
      ],
      "metadata": {
        "id": "wV_zuWZnTD7Z"
      },
      "execution_count": null,
      "outputs": []
    },
    {
      "cell_type": "code",
      "source": [
        "#Test display image in true colors\n",
        "corner = corners[0]\n",
        "image = getImage(corner)\n",
        "Map = geemap.Map()\n",
        "roi = ee.Geometry.Polygon([[[corner[0], corner[1]], [corner[0]+0.5,corner[1]], [corner[0]+0.5, corner[1]-0.5], [corner[0],corner[1]-0.5], [corner[0], corner[1]]]], None, False)\n",
        "Map.addLayer(image, {'bands': params['bands'], 'max': params['max'] + random.randint(-800, 800)}, \"Image\")\n",
        "Map.addLayer(roi, {}, \"roi\", False)\n",
        "Map.setCenter(image.getInfo()['properties']['system:footprint']['coordinates'][0][0][0] + 0.25, image.getInfo()['properties']['system:footprint']['coordinates'][0][0][1] -0.25)\n",
        "Map"
      ],
      "metadata": {
        "id": "8PglQLLkwOwJ",
        "colab": {
          "base_uri": "https://localhost:8080/",
          "height": 621,
          "referenced_widgets": [
            "f8f2187c01e44133b1c7bf1a07d3f4b3",
            "1e8186eda6e346619816b9f1cc39d382",
            "95648df2a0d94a8fb321c066437bd150",
            "2b1c0d06a2d14b95b3a71632cd36ad7e",
            "c39d0501efc141fd8897b8104c746adc",
            "8465a06d39b24b7e866d79dab402781d",
            "0aa21484ca0f4d9595c562c6797503c2",
            "24059ea4567549b790d474b88bc96315",
            "e1349073de46405f997098f0f79ff296",
            "8932500f5e184ac6baeb18f86ea1cb22",
            "b39142b3c8394661a253c220472b1ff6",
            "619fb83780d14c14862dd67f0e7354b3",
            "e0d5bb0f2f5a46a48d325e5cd0a885fc",
            "a0b0d0fb0ca042769f59eea80073a9eb",
            "548fda99c226495eb4729149bca6f75d",
            "647558f58c1642ba8588b22a69f9e74d",
            "c8b68deda0234b6ba5d8cbf4d10f3bea",
            "d909526bcc1c4e28b2eb5b0c1bc79bbe",
            "44970e5a5e1b40d3bf8a81d81143f1fc",
            "8b14ecad7c504c5f98d05aa63a25799b",
            "f93637f6d2c24fdfb0e7856a279f4f60",
            "173491fa61824271a4c63f89246a0702",
            "89ab14de7e134d7aa3732da56dd4172b",
            "7d1cabac337a423ca6b393b9b78aa9f5",
            "9ef7e71363e640709bf9289a8fbcf3b8",
            "061ca465a2d749e79fef6dafc3efee21",
            "7ea56b29496443c18b27d7df7297b36e"
          ]
        },
        "outputId": "7af2a9bc-0965-4f39-e1a3-e15c0ce648aa"
      },
      "execution_count": null,
      "outputs": [
        {
          "output_type": "display_data",
          "data": {
            "text/plain": [
              "Map(center=[-24.22083333333333, -59.483333333333334], controls=(WidgetControl(options=['position', 'transparen…"
            ],
            "application/vnd.jupyter.widget-view+json": {
              "version_major": 2,
              "version_minor": 0,
              "model_id": "f8f2187c01e44133b1c7bf1a07d3f4b3"
            }
          },
          "metadata": {
            "application/vnd.jupyter.widget-view+json": {
              "colab": {
                "custom_widget_manager": {
                  "url": "https://ssl.gstatic.com/colaboratory-static/widgets/colab-cdn-widget-manager/b3e629b1971e1542/manager.min.js"
                }
              }
            }
          }
        }
      ]
    },
    {
      "cell_type": "code",
      "source": [
        "#Generate random center points within image region corresponding to target dataset grid centers and return them in GeoJSON format:\n",
        "def getPoints(corner):\n",
        "  points = []\n",
        "  while len(points) < params['pointsperregion']:\n",
        "    y = corner[0] + (random.randint(1, 0.5 // params['step'])-1) * params['step'] + params['step']/2\n",
        "    x = corner[1] - (random.randint(1, 0.5 // params['step'])-1) * params['step'] - params['step']/2\n",
        "    if globe.is_land(x,y):\n",
        "      points.append((y,x))\n",
        "  return map(geoJSONize, points)"
      ],
      "metadata": {
        "id": "FV8l-8faTJ4j"
      },
      "execution_count": null,
      "outputs": []
    },
    {
      "cell_type": "code",
      "source": [
        "#Test GetPoints function:\n",
        "image = getImage(corners[0])\n",
        "items = getPoints(image, corners[0])\n",
        "list(items)"
      ],
      "metadata": {
        "id": "lQWnYHCl5Fvd"
      },
      "execution_count": null,
      "outputs": []
    },
    {
      "cell_type": "code",
      "source": [
        "#Get URLs for minor image download based on center locations and buffer:\n",
        "def getUrls(image, point):\n",
        "    point = ee.Geometry.Point(point['coordinates'])\n",
        "    region = point.buffer(params['step']/2, proj='EPSG:4326').bounds()\n",
        "    try:\n",
        "      url = image.getThumbURL({\n",
        "          'region': region,\n",
        "          'bands': params['bands'],\n",
        "          'max': params['max'] + random.randint(-400,400),\n",
        "          'dimensions': params['dimensions'],\n",
        "          'format': params['format'],\n",
        "          'gamma': 1.3\n",
        "      })\n",
        "    except Exception as e:\n",
        "      print(e)\n",
        "      return None\n",
        "\n",
        "    return url"
      ],
      "metadata": {
        "id": "CcNkIJB_TRBG"
      },
      "execution_count": null,
      "outputs": []
    },
    {
      "cell_type": "code",
      "source": [
        "#Test getURLs function:\n",
        "rois = getCorners()\n",
        "image = getImage(rois[0])\n",
        "items = getPoints(image, rois[0])\n",
        "url = getUrls(image, list(items)[0])\n",
        "url"
      ],
      "metadata": {
        "id": "_eq0TLSE49bD"
      },
      "execution_count": null,
      "outputs": []
    },
    {
      "cell_type": "code",
      "source": [
        "#Set up for download. Credit to Qiusheng Wu for this snippet:\n",
        "@retry(tries=100, delay=1, backoff=2)\n",
        "def getRes(point, url):\n",
        "  if not url:\n",
        "    print(\"Skipping corrupted image\")\n",
        "\n",
        "  else:\n",
        "    r = requests.get(url, stream=True)\n",
        "    if r.status_code != 200:\n",
        "        r.raise_for_status\n",
        "\n",
        "    #Store and name image files so they're convenient to pair with targets:\n",
        "    def getPath(coords):\n",
        "      _step = params['step']\n",
        "      if coords[1] > 0:\n",
        "        if coords[0] > 90:\n",
        "          x = (coords[0] - 90) / _step\n",
        "          y = (90 - coords[1]) / _step  \n",
        "          return {'directory':'4', 'y': int(y), 'x': int(x)}\n",
        "        elif 0 < coords[0] < 90:\n",
        "          x = coords[0] / _step\n",
        "          y = (90 - coords[1]) / _step  \n",
        "          return {'directory':'3', 'y': int(y), 'x': int(x)}\n",
        "        elif -90 < coords[0] < 0:\n",
        "          x = (coords[0] + 90) / _step\n",
        "          y = (90 - coords[1]) / _step  \n",
        "          return {'directory':'2', 'y': int(y), 'x': int(x)}\n",
        "        elif coords[0] < -90:\n",
        "          x = (coords[0] + 180) / _step\n",
        "          y = (90 - coords[1]) / _step  \n",
        "          return {'directory':'1', 'y': int(y), 'x': int(x)}\n",
        "      else:\n",
        "        if coords[0] > 90:\n",
        "          x = (coords[0] -90) / _step\n",
        "          y = (coords[1] / _step) * -1 \n",
        "          return {'directory':'8', 'y': int(y), 'x': int(x)}\n",
        "        elif 0 < coords[0] < 90:\n",
        "          x = coords[0] / _step\n",
        "          y = (coords[1] / _step) * -1 \n",
        "          return {'directory':'7', 'y': int(y), 'x': int(x)}\n",
        "        elif -90 < coords[0] < 0:\n",
        "          x = (coords[0] + 90) / _step\n",
        "          y = (coords[1] / _step) * -1 \n",
        "          return {'directory':'6', 'y': int(y), 'x': int(x)}\n",
        "        elif coords[0] < -90:\n",
        "          x = (coords[0] + 180) / _step\n",
        "          y = (coords[1] / _step) * -1 \n",
        "          return {'directory':'5', 'y': int(y), 'x': int(x)}\n",
        "\n",
        "    ext = params['format']\n",
        "    out_dir = os.path.join(params['out_dir'], getPath(point['coordinates'])['directory'])\n",
        "    basename = f\"x{str(getPath(point['coordinates'])['x']).zfill(5)}y{str(getPath(point['coordinates'])['y']).zfill(5)}\"\n",
        "    filename = f\"{out_dir}/{params['prefix']}{basename}.{ext}\"\n",
        "    with open(filename, 'wb') as outfile:\n",
        "        shutil.copyfileobj(r.raw, outfile)\n",
        "    print(f\"{basename} downloaded.\\n\")"
      ],
      "metadata": {
        "id": "leuzTf1yTnCP"
      },
      "execution_count": null,
      "outputs": []
    },
    {
      "cell_type": "code",
      "source": [
        "#Main: get download URLs and coordinates, download images:\n",
        "#Generate upper left corners of larger images:\n",
        "rois = getCorners()\n",
        "\n",
        "#Add cities:\n",
        "if params['test'] == False:\n",
        "  rois.extend(CITIES)\n",
        "\n",
        "\n",
        "num = 0\n",
        "for roi in rois:\n",
        "  num += 1\n",
        "  print(f\"New region: {num}. {roi}\")\n",
        "  #For each region, generate an image of the region:\n",
        "  image = getImage(roi)\n",
        "  #...generate a set of point objects within the region from which to generate image chips:\n",
        "  items = tuple(getPoints(roi))\n",
        "  #...make a list of copies of the image so each point object is paired with the image:\n",
        "  images = [image] * len(items)\n",
        "  #...send image and each point object to Earth Engine and retrieve image chip download URLs:\n",
        "  urls = map(getUrls, images, items)\n",
        "  #...pack each URL and each point object together for multiprocessing download (downloading many images simultaneously to save time):\n",
        "  iter = zip(items, urls)\n",
        "\n",
        "  #...initialize multiprocessing\n",
        "  logging.basicConfig()\n",
        "  pool = multiprocessing.Pool(params['processes'])\n",
        "  \n",
        "  #...download images:\n",
        "  pool.starmap(getRes, iter)\n",
        "\n",
        "  #...and close down multiprocessing once all images in this region have been downloaded:\n",
        "  pool.close()\n"
      ],
      "metadata": {
        "id": "mVLs3rYrtvsg"
      },
      "execution_count": null,
      "outputs": []
    },
    {
      "cell_type": "code",
      "source": [
        "#Moving on to model setup stage, install PyTorch and another tool we'll need later:\n",
        "%%capture\n",
        "!pip install pytorch\n",
        "!pip install torch-lr-finder"
      ],
      "metadata": {
        "id": "TcZa0UNORvoz"
      },
      "execution_count": 1,
      "outputs": []
    },
    {
      "cell_type": "code",
      "source": [
        "#Import tools required for setting up our model:\n",
        "import numpy as np\n",
        "import cv2\n",
        "import torch\n",
        "import torchvision.transforms as TF\n",
        "import os.path\n",
        "import torch.nn.functional as F\n",
        "import torchvision.models as M\n",
        "from torch import nn, optim\n",
        "from torch.utils.data import Dataset, DataLoader, random_split\n",
        "from torch_lr_finder import LRFinder"
      ],
      "metadata": {
        "id": "1pXXKp9wpbtG"
      },
      "execution_count": 2,
      "outputs": []
    },
    {
      "cell_type": "code",
      "source": [
        "#Load population grids into arrays and pair up saved images with population counts\n",
        "prefix = \"Population\"\n",
        "ext = \".asc\"\n",
        "path = \"drive/MyDrive/PopulationData/gpw_v4_population_count_rev11_2020_30_sec_\"\n",
        "dataset = []\n",
        "for i in range(1,9):\n",
        "  array = np.loadtxt(f\"{path}{i}{ext}\", skiprows=6)\n",
        "  for filename in sorted(os.listdir(str(i))):\n",
        "    if filename[12:16] != \".png\":\n",
        "      continue\n",
        "\n",
        "    column = int(filename[1:6])\n",
        "    row = int(filename[7:12])\n",
        "    depvar = array[row,column]\n",
        "\n",
        "    #Convert image to array and reshape array to RGB as our model will expect:\n",
        "    image = cv2.imread(f\"{str(i)}/{filename}\", cv2.IMREAD_COLOR)\n",
        "    image = cv2.cvtColor(image, cv2.COLOR_BGR2RGB)\n",
        "\n",
        "    #Normalize the image according to the standard for ResNet, which we will be using for transfer learning:\n",
        "    normalize = TF.Compose([\n",
        "        TF.ToTensor(),\n",
        "        TF.Normalize(mean=[0.485, 0.456, 0.406], std=[0.229, 0.224, 0.225])\n",
        "    ])\n",
        "    normalizedimage = normalize(image)\n",
        "    del image\n",
        "\n",
        "    #Pack image tensor with target value tensor and append to dataset:\n",
        "    dataset.append((normalizedimage, torch.from_numpy(np.array(depvar))))\n",
        "  del array\n",
        "\n",
        "#Save dataset to file\n",
        "torch.save(dataset, \"drive/MyDrive/PopulationData/dataset.t\")\n",
        "\n",
        "len(dataset)"
      ],
      "metadata": {
        "id": "Pp8EzRjhocgS"
      },
      "execution_count": null,
      "outputs": []
    },
    {
      "cell_type": "code",
      "source": [
        "#Load dataset\n",
        "dataset = torch.load(\"drive/MyDrive/PopulationData/dataset.t\")\n",
        "len(dataset)"
      ],
      "metadata": {
        "id": "1doBMkSFAZ-z"
      },
      "execution_count": null,
      "outputs": []
    },
    {
      "cell_type": "code",
      "source": [
        "#Set up hyperparameters and transformations and prepare dataloaders:\n",
        "\n",
        "#Hyperparameters:\n",
        "hyperparameters = {\n",
        "    'state': 'state0',               #This string is added to the filename of the model when saving to indicate whether the model is pure pretrained (state0), output layer fine-tuned (state1), intermediate state (state2) or fully fine-tuned (state3)\n",
        "    'train_pct': 0.8,\n",
        "    'epochs': 6,\n",
        "    'unfrozen': ['fc'],\n",
        "    'learning_rate': 0.00001,\n",
        "    'batch_size': 64,\n",
        "    'scheduler_max_lr': 0.01,\n",
        "    'scheduler_div_factor': 1000\n",
        "\n",
        "}\n",
        "transformparams = {\n",
        "    'saturation': 0.5,\n",
        "    'hue': 0.1,\n",
        "    'brightness': 0.5,\n",
        "    'contrast': 0.2,\n",
        "}\n",
        "\n",
        "#Set up dataset and augmentations. First initialize randomizer for random transforms.\n",
        "torch.manual_seed(42)\n",
        "\n",
        "#List of transformations to apply. Selecting only those that don't affect the outline of the image, \n",
        "#as that would bring it out of sync with the population data. \n",
        "transforms = TF.Compose([\n",
        "            TF.RandomRotation([90,90]),\n",
        "            TF.RandomHorizontalFlip(),\n",
        "            TF.RandomVerticalFlip(),\n",
        "            TF.ColorJitter(brightness=(1-transformparams['brightness'],1+transformparams['brightness']),\n",
        "                           contrast=(1-transformparams['contrast'],1+transformparams['contrast']),\n",
        "                           saturation=(1-transformparams['saturation'],1+transformparams['saturation']),\n",
        "                           hue=(-transformparams['hue'],transformparams['hue']))\n",
        "])\n",
        "\n",
        "#Split the dataset randomly into a training set and a validation set\n",
        "train, valid = random_split(dataset, [hyperparameters['train_pct'],1-hyperparameters['train_pct']])\n",
        "\n",
        "#Define a custom dataset class to accommodate applying transformations to my already collated dataset \n",
        "#(transformations are normally done before the image is converted to tensor and paired up with its target value)\n",
        "class CustomDataset(Dataset):\n",
        "    def __init__(self, data, transforms=None):\n",
        "        self.data = data\n",
        "        self.transforms = transforms\n",
        "    \n",
        "    def __len__(self):\n",
        "        return len(self.data)\n",
        "    \n",
        "    def __getitem__(self, idx):\n",
        "        image, target = self.data[idx]\n",
        "        if self.transforms:\n",
        "            image = self.transforms(image)\n",
        "        return image, target\n",
        "\n",
        "#Instantiate the custom dataset and store the data as DataLoader objects, which are iterators that provide the data to the model one batch at a time. \n",
        "#The training dataset is initialized with transforms, whereas the validation dataset is initialized without transforms. \n",
        "#The data is now ready to be input into the model.\n",
        "tds = CustomDataset(train, transforms=transforms)\n",
        "vds = CustomDataset(valid)\n",
        "tdl = DataLoader(dataset=tds, batch_size=hyperparameters['batch_size'], shuffle=True)\n",
        "vdl = DataLoader(dataset=vds, batch_size=hyperparameters['batch_size'], shuffle=True)\n"
      ],
      "metadata": {
        "id": "sBo_Rsjwrvf7"
      },
      "execution_count": 5,
      "outputs": []
    },
    {
      "cell_type": "code",
      "source": [
        "#Import pretrained model for transfer learning:\n",
        "model = M.resnet18(weights='ResNet18_Weights.DEFAULT')\n",
        "\n",
        "#Add custom head to model (for experimentation - currently identical to native head):\n",
        "customhead = nn.Sequential(\n",
        "    nn.Linear(512,1),\n",
        ")\n",
        "\n",
        "model.fc = customhead"
      ],
      "metadata": {
        "id": "W4X93TceBKeI"
      },
      "execution_count": null,
      "outputs": []
    },
    {
      "cell_type": "code",
      "source": [
        "#Set up model\n",
        "\n",
        "#Specify device to use for training:\n",
        "device = torch.device(\"cuda:0\" if torch.cuda.is_available() else \"cpu\")\n",
        "model.to(device)\n",
        "\n",
        "#Freeze the parameters of the earliest convolutional layers so the model doesn't have to relearn basic\n",
        "#vision capabilities such as detecting edges, corners, squares, circles etc. Since my imported model was\n",
        "#trained on a much larger dataset and using far more computations than I can, it's more efficient from me\n",
        "#to borrow the basic capabilities from the imported model. Even though the images in my dataset are very\n",
        "#different, being satellite images, they still have edges, corners and polygons.\n",
        "for name, param in model.named_parameters():\n",
        "  for layername in hyperparameters['unfrozen']:\n",
        "    if layername in name:\n",
        "      param.requires_grad = True\n",
        "    else:\n",
        "      param.requires_grad = False\n",
        "\n",
        "#Create Root Mean Squared Log Error loss function. I'm using RMSLE as opposed RMSE\n",
        "#because I don't want error scale to matter. If my model guesses 9000 people living in an area with 8000\n",
        "#people, that is as good a guess as guessing 90 people in an area with 80 people.\n",
        "class RMSLELoss(nn.Module):\n",
        "    def __init__(self):\n",
        "        super().__init__()\n",
        "\n",
        "    def forward(self, pred, targ):\n",
        "        return torch.sqrt(torch.mean(torch.log(abs(pred+1/targ+1))))\n",
        "\n",
        "criterion = RMSLELoss()\n",
        "optimizer = optim.Adam(model.parameters(), lr=hyperparameters['learning_rate'])\n",
        "#scheduler = optim.lr_scheduler.OneCycleLR(optimizer, max_lr=hyperparameters['scheduler_max_lr'], steps_per_epoch=len(tdl), epochs=hyperparameters['epochs'], div_factor=hyperparameters['scheduler_div_factor'])\n",
        "\n",
        "#Initialize TensorBoard SummaryWriter for more in-depth metrics and diagnostics:\n",
        "from torch.utils.tensorboard import SummaryWriter\n",
        "writer = SummaryWriter('/')"
      ],
      "metadata": {
        "id": "IAAC2QRyn8SA"
      },
      "execution_count": 45,
      "outputs": []
    },
    {
      "cell_type": "code",
      "source": [
        "#Define evaluation function for model\n",
        "def accuracy(valid):\n",
        "  \n",
        "  #Initialize variables:\n",
        "  eval = {}\n",
        "  eval['validloss'] = 0.0\n",
        "  eval['metrics'] = {}\n",
        "  eval['metrics']['c_50'] = 0\n",
        "  eval['metrics']['c_mag'] = 0\n",
        "  eval['metrics']['c_10'] = 0\n",
        "\n",
        "  #Test the model against the validation set:\n",
        "  for x, y in valid:\n",
        "    x = x.to(device)\n",
        "    y = y.to(device)\n",
        "    preds = model(x)\n",
        "    loss = criterion(preds, y)\n",
        "    eval['validloss'] += loss\n",
        "\n",
        "    #Calculate precision metrics (amount of exact predictions (within -10% to +10% of target), amount of roughly accurate predictions \n",
        "    #(within half to double the target) and amount of predictions in roughly the correct order of magnitude (within 1/10 and 10/1 of target): \n",
        "    for prediction, target in zip(preds.flatten(), y.flatten()):\n",
        "      if target.item() / 2 < prediction.item() < target.item() * 2\n",
        "        eval['metrics']['c_50'] += 1\n",
        "      if target.item() / 10 < prediction.item() < target.item() * 10:\n",
        "        eval['metrics']['c_mag'] += 1\n",
        "      if target.item() * 0.9 < prediction.item() < target.item() * 1.1:\n",
        "        eval['metrics']['c_10'] += 1\n",
        "  return eval"
      ],
      "metadata": {
        "id": "CocyEwBmxfb_"
      },
      "execution_count": 43,
      "outputs": []
    },
    {
      "cell_type": "code",
      "source": [
        "#Find the optimal learning rate:\n",
        "optimizer = optim.Adam(model.parameters(), lr=hyperparameters['learning_rate'])\n",
        "lr_finder = LRFinder(model, optimizer, criterion, device=device)\n",
        "lr_finder.range_test(tdl, end_lr=1, num_iter=100)\n",
        "lr_finder.plot()\n",
        "lr_finder.reset()"
      ],
      "metadata": {
        "id": "zBOLSQLx2lXt"
      },
      "execution_count": null,
      "outputs": []
    },
    {
      "cell_type": "code",
      "source": [
        "#Fine-tune the model to our dataset:\n",
        "for epoch in range(hyperparameters['epochs']):\n",
        "  running_loss = 0.0\n",
        "  batchcount = 0\n",
        "  for x, y in tdl:\n",
        "    x = x.to(device)\n",
        "    y = y.to(device)\n",
        "    batchcount += 1\n",
        "    optimizer.zero_grad()\n",
        "    preds = model(x)\n",
        "    loss = criterion(preds, y)\n",
        "    #writer.add_scalar('Loss/train', loss, batchcount)\n",
        "    #writer.add_histogram('Weights', model.fc.weight)\n",
        "    loss.backward()\n",
        "    optimizer.step()\n",
        "    running_loss += loss\n",
        "\n",
        "  #Print statistics after each epoch\n",
        "  eval = accuracy(vdl)\n",
        "  print(f\"Epoch {epoch + 1} finished.\")\n",
        "  print(f\"Training loss: {running_loss:.4f}\")\n",
        "  print(f\"Validation loss: {eval['validloss']:.4f}\")\n",
        "  print(f\"Perfect: {eval['metrics']['c_10'] / len(vdl.dataset) * 100:.2f}%\")\n",
        "  print(f\"Correct half to double: {eval['metrics']['c_50'] / len(vdl.dataset) * 100:.2f}%\")\n",
        "  print(f\"Correct order of magnitude: {eval['metrics']['c_mag'] / len(vdl.dataset) * 100:.2f}%\\n\")"
      ],
      "metadata": {
        "id": "vqWHt52WoEaG"
      },
      "execution_count": null,
      "outputs": []
    },
    {
      "cell_type": "code",
      "source": [
        "state = hyperparameters['state']\n",
        "torch.save(model, f'drive/MyDrive/PopulationData/model{state}.pkl')"
      ],
      "metadata": {
        "id": "5gHEfZHbFYmc"
      },
      "execution_count": null,
      "outputs": []
    }
  ]
}